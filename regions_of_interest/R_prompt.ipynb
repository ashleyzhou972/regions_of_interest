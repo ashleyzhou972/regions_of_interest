{
 "cells": [
  {
   "cell_type": "code",
   "execution_count": 5,
   "id": "b82ad4e5-4284-4c50-9e79-64155ef929a6",
   "metadata": {},
   "outputs": [],
   "source": [
    "# Background\n",
    "## At Tempus we identify genetic variants in important oncogenes that help inform patient treatment and care. \n",
    "## A critical step in this process is to first call variants and then identify which gene the variant is in.\n",
    "\n",
    "# Prompt\n",
    "## Given a VCF (Variant Call Format) and a BED (Browser Extensible Data) file, \n",
    "## design an algorithm to find the variants in the VCF file which intersect with regions in the BED file\n",
    "\n",
    "## The goal here is to write the intersection algorithm yourself, \n",
    "## so please don’t use pybed or other existing libraries to handle bed files."
   ]
  },
  {
   "cell_type": "code",
   "execution_count": 6,
   "id": "2985bfe7-5c79-44dd-bb9a-5f95e8773ec3",
   "metadata": {},
   "outputs": [],
   "source": [
    "# Inputs\n",
    "bed = '\n",
    "chr13      289883        290053        BRCA2\n",
    "chr13      290142        290312        BRCA2\n",
    "chr13      290546        290689        BRCA2\n",
    "chr17      197612        197844        BRCA1\n",
    "chr17      199634        199745        BRCA1\n",
    "chr17      201112        201236        BRCA1\n",
    "chr17      201617        201787        BRCA1\n",
    "chr17      202053        202179        BRCA1\n",
    "'\n",
    "vcf = '\n",
    "VCF\n",
    "11\t201723\t.\tA\tC\n",
    "13\t288286\t.\tG\tT\n",
    "13\t290252\t.\tA\tT\n",
    "13\t290412\t.\tC\tCGGCGGC\n",
    "13\t290612\t.\tACAG\tTCAC\n",
    "17\t201110\t.\tGACAGTA\tG\n",
    "17\t201787\t.\tC\tA\n",
    "17\t202053\t.\tG\tT\n",
    "17\t301232\t.\tA\tG\n",
    "'"
   ]
  },
  {
   "cell_type": "code",
   "execution_count": 8,
   "id": "47ba4651-c5a3-4c50-a009-8f73064bb31f",
   "metadata": {},
   "outputs": [],
   "source": [
    "# Expected Output\n",
    "#\"\n",
    "#13\t290252\t.\tA\tT - intersects with 13      290142        290312        BRCA2\n",
    "#13\t290612\t.\tACAG\tTCAC - intersects with 13      290546        290689        BRCA2\n",
    "#17\t201110\t.\tGACAGTA\tG - intersects with 17      201112        201236        BRCA1\n",
    "#17\t201787\t.\tC\tA - intersects with 17      201617        201787        BRCA1\n",
    "#\""
   ]
  },
  {
   "cell_type": "code",
   "execution_count": 9,
   "id": "03dcd5b1-4730-4126-8e66-ea1fbce782db",
   "metadata": {},
   "outputs": [
    {
     "name": "stdout",
     "output_type": "stream",
     "text": [
      "[1] \"hello\"\n"
     ]
    }
   ],
   "source": [
    "print(\"hello\")"
   ]
  },
  {
   "cell_type": "code",
   "execution_count": 10,
   "id": "1271fbf3-872f-4675-95cc-48363d6ba165",
   "metadata": {},
   "outputs": [
    {
     "name": "stdout",
     "output_type": "stream",
     "text": [
      "[1] \"\\nVCF\\n11\\t201723\\t.\\tA\\tC\\n13\\t288286\\t.\\tG\\tT\\n13\\t290252\\t.\\tA\\tT\\n13\\t290412\\t.\\tC\\tCGGCGGC\\n13\\t290612\\t.\\tACAG\\tTCAC\\n17\\t201110\\t.\\tGACAGTA\\tG\\n17\\t201787\\t.\\tC\\tA\\n17\\t202053\\t.\\tG\\tT\\n17\\t301232\\t.\\tA\\tG\\n\"\n"
     ]
    }
   ],
   "source": [
    "print(vcf)"
   ]
  },
  {
   "cell_type": "code",
   "execution_count": null,
   "id": "5a45b0ac-7511-49fb-80c0-b15f3818d6c1",
   "metadata": {},
   "outputs": [],
   "source": []
  }
 ],
 "metadata": {
  "kernelspec": {
   "display_name": "R",
   "language": "R",
   "name": "ir"
  },
  "language_info": {
   "codemirror_mode": "r",
   "file_extension": ".r",
   "mimetype": "text/x-r-source",
   "name": "R",
   "pygments_lexer": "r",
   "version": "3.6.3"
  }
 },
 "nbformat": 4,
 "nbformat_minor": 5
}
